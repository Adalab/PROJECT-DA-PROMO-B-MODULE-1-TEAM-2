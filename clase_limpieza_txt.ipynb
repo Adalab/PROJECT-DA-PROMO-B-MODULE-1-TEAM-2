{
 "cells": [
  {
   "cell_type": "code",
   "execution_count": 1,
   "metadata": {},
   "outputs": [],
   "source": [
    "with open('data_txt.txt','r') as file:\n",
    "    file_source = file.readlines() # Es una lista que cada línea del fichero txt como un string de todos los datos."
   ]
  },
  {
   "cell_type": "code",
   "execution_count": 37,
   "metadata": {},
   "outputs": [],
   "source": [
    "class Limpieza_txt:\n",
    "    \n",
    "    def __init__ (self, txt):\n",
    "        self.txt = txt\n",
    "\n",
    "    #definimos función txt a lista de listas\n",
    "    def txt_to_list(self):\n",
    "        lista_resultado = []\n",
    "        for i in self.txt:\n",
    "            i = i.split(';')\n",
    "            lista_resultado.append(i)\n",
    "        return lista_resultado   \n",
    "\n",
    "    # definimos función salto en línea\n",
    "    \n",
    "    def quitar_salto(self):\n",
    "        try:\n",
    "            self.txt = self.txt_to_list()\n",
    "\n",
    "            for list in self.txt:\n",
    "                for i in list:\n",
    "                    if i == list[-1]:\n",
    "                        i = i.rstrip()\n",
    "                        list[-1] = i\n",
    "                    \n",
    "            return self.txt\n",
    "            \n",
    "        except:\n",
    "            for list in self.txt:\n",
    "                for i in list:\n",
    "                    if i == list[-1]:\n",
    "                        i = i.rstrip()\n",
    "                        list[-1] = i\n",
    "                    \n",
    "            return self.txt\n",
    "\n",
    "   \n",
    "    \n",
    "    #definimos función quitar espacios son para listas\n",
    "\n",
    "    def quitar_espacios(self):\n",
    "        try:\n",
    "            self.txt = self.txt_to_list()\n",
    "                       \n",
    "            i = 0\n",
    "            \n",
    "            while i < len(self.txt):\n",
    "                listalimpia = []\n",
    "                \n",
    "                for str in self.txt[i]:\n",
    "                    \n",
    "                    listalimpia.append(str.strip())\n",
    "                    self.txt[i] = listalimpia\n",
    "                i += 1\n",
    "            \n",
    "            return self.txt\n",
    "        except:\n",
    "                       \n",
    "            i = 0\n",
    "            \n",
    "            while i < len(self.txt):\n",
    "                listalimpia = []\n",
    "                \n",
    "                for str in self.txt[i]:\n",
    "                    \n",
    "                    listalimpia.append(str.strip())\n",
    "                    self.txt[i] = listalimpia\n",
    "                i += 1\n",
    "            return self.txt\n",
    "    \n",
    "    #definimos función cambiar < por under\n",
    "\n",
    "    def cambiar_under(self):\n",
    "\n",
    "        try:\n",
    "            self.txt = self.txt_to_list()\n",
    "        \n",
    "            i = 0    \n",
    "        \n",
    "            while i < len(self.txt):\n",
    "                \n",
    "                listalimpia = []\n",
    "                \n",
    "                for str in self.txt[i]:\n",
    "                    listalimpia.append(str.replace(\"<\", \"under\"))\n",
    "                    self.txt[i] = listalimpia\n",
    "                i +=1\n",
    "            \n",
    "            return self.txt\n",
    "\n",
    "        except:\n",
    "            i = 0    \n",
    "        \n",
    "            while i < len(self.txt):\n",
    "                \n",
    "                listalimpia = []\n",
    "                \n",
    "                for str in self.txt[i]:\n",
    "                    listalimpia.append(str.replace(\"<\", \"under\"))\n",
    "                    self.txt[i] = listalimpia\n",
    "                i +=1\n",
    "            \n",
    "            return self.txt\n",
    "\n",
    "    \n",
    "    #definimos función cambiar null por NULL\n",
    "    \n",
    "    def cambiar_null(self):\n",
    "        try:\n",
    "            self.txt = self.txt_to_list()\n",
    "        \n",
    "            i = 0    \n",
    "        \n",
    "            while i < len(self.txt):\n",
    "                \n",
    "                listalimpia = []\n",
    "                \n",
    "                for str in self.txt[i]:\n",
    "                    listalimpia.append(str.replace(\"null\", \"NULL\"))\n",
    "                    self.txt[i] = listalimpia\n",
    "                i +=1\n",
    "            \n",
    "            return self.txt\n",
    "        \n",
    "        except:\n",
    "\n",
    "            i = 0    \n",
    "        \n",
    "            while i < len(self.txt):\n",
    "                \n",
    "                listalimpia = []\n",
    "                \n",
    "                for str in self.txt[i]:\n",
    "                    listalimpia.append(str.replace(\"null\", \"NULL\"))\n",
    "                    self.txt[i] = listalimpia\n",
    "                i +=1\n",
    "            \n",
    "            return self.txt\n"
   ]
  },
  {
   "cell_type": "code",
   "execution_count": 38,
   "metadata": {},
   "outputs": [],
   "source": [
    "limpiezaadalab = Limpieza_txt(file_source)"
   ]
  },
  {
   "cell_type": "code",
   "execution_count": null,
   "metadata": {},
   "outputs": [],
   "source": [
    "limpiezaadalab.quitar_salto()"
   ]
  },
  {
   "cell_type": "code",
   "execution_count": null,
   "metadata": {},
   "outputs": [],
   "source": [
    "limpiezaadalab.quitar_espacios()"
   ]
  },
  {
   "cell_type": "code",
   "execution_count": null,
   "metadata": {},
   "outputs": [],
   "source": [
    "limpiezaadalab.cambiar_under()"
   ]
  },
  {
   "cell_type": "code",
   "execution_count": null,
   "metadata": {},
   "outputs": [],
   "source": [
    "limpiezaadalab.cambiar_null()"
   ]
  },
  {
   "cell_type": "code",
   "execution_count": null,
   "metadata": {},
   "outputs": [],
   "source": [
    "print(limpiezaadalab.txt)"
   ]
  },
  {
   "cell_type": "code",
   "execution_count": null,
   "metadata": {},
   "outputs": [],
   "source": [
    "file_source_limpio = limpiezaadalab.txt\n",
    "file_source_limpio"
   ]
  }
 ],
 "metadata": {
  "kernelspec": {
   "display_name": "Python 3.9.7 ('base')",
   "language": "python",
   "name": "python3"
  },
  "language_info": {
   "codemirror_mode": {
    "name": "ipython",
    "version": 3
   },
   "file_extension": ".py",
   "mimetype": "text/x-python",
   "name": "python",
   "nbconvert_exporter": "python",
   "pygments_lexer": "ipython3",
   "version": "3.9.7"
  },
  "orig_nbformat": 4,
  "vscode": {
   "interpreter": {
    "hash": "6be5d780ee9b0e6fe20ff9090f4981b24f52f07297829e94136e87c5137905e3"
   }
  }
 },
 "nbformat": 4,
 "nbformat_minor": 2
}
