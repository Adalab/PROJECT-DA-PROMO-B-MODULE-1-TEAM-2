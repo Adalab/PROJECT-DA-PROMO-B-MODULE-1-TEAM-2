{
 "cells": [
  {
   "cell_type": "code",
   "execution_count": null,
   "metadata": {},
   "outputs": [],
   "source": [
    "import mysql.connector\n",
    "import pandas as pd"
   ]
  },
  {
   "cell_type": "code",
   "execution_count": 1,
   "metadata": {},
   "outputs": [],
   "source": [
    "# Creación de una clase para crear tablas e insertar datos desde Python\n",
    "\n",
    "class Creacion_insercion:\n",
    "    \n",
    "    def __init__(self, password):\n",
    "        self.password = password\n",
    "    \n",
    "    def crear_tablas (self, query):\n",
    "        self.query =query\n",
    "        cnx = mysql.connector.connect(user='root', password=self.password,\n",
    "                                host='127.0.0.1', database='project1')\n",
    "        mycursor= cnx.cursor()\n",
    "        try:\n",
    "            mycursor.execute(self.query)\n",
    "            print(\"Se creó la tabla\",mycursor)\n",
    "        except mysql.connector.Error as err:\n",
    "            print(err)\n",
    "            print(\"Error Code:\", err.errno)\n",
    "            print(\"SQLSTATE\", err.sqlstate)\n",
    "            print(\"Message\", err.msg)\n",
    "            \n",
    "        cnx.close()\n",
    "            \n",
    "    def insertar_datos(self, sql, val):    \n",
    "        \n",
    "        self.sql = sql\n",
    "        self.val = val\n",
    "     \n",
    "        cnx = mysql.connector.connect(user='root', password=self.password,\n",
    "                                    host='127.0.0.1', database='project1')\n",
    "\n",
    "        mycursor = cnx.cursor()\n",
    "        \n",
    "        try: \n",
    "            mycursor.executemany(self.sql, self.val)\n",
    "            cnx.commit()\n",
    "            print(mycursor.rowcount, \"registro insertado.\")\n",
    "\n",
    "        except mysql.connector.Error as err:\n",
    "            print(err)\n",
    "            print(\"Error Code:\", err.errno)\n",
    "            print(\"SQLSTATE\", err.sqlstate)\n",
    "            print(\"Message\", err.msg)\n",
    "            \n",
    "        cnx.close()\n",
    "        "
   ]
  },
  {
   "cell_type": "code",
   "execution_count": 2,
   "metadata": {},
   "outputs": [],
   "source": [
    "# Creación de una clase para crear dataframes con pd\n",
    "\n",
    "\n",
    "class Lectura:\n",
    "    \n",
    "    def __init__(self, password):\n",
    "        self.password = password\n",
    "      \n",
    "        \n",
    "    def lectura_df (self, query, lista_columnas_df):\n",
    "        self.query = query\n",
    "        self.lista_columnas_df = lista_columnas_df\n",
    "        \n",
    "        cnx = mysql.connector.connect(user='root', password=self.password,\n",
    "                              host='127.0.0.1', database='project1')\n",
    "\n",
    "        mycursor = cnx.cursor()\n",
    "        mycursor.execute(self.query)\n",
    "        myresult = mycursor.fetchall()\n",
    "        df = pd.DataFrame(myresult, columns = self.lista_columnas_df)\n",
    "        \n",
    "        return print(df)"
   ]
  }
 ],
 "metadata": {
  "kernelspec": {
   "display_name": "Python 3.9.7 ('base')",
   "language": "python",
   "name": "python3"
  },
  "language_info": {
   "codemirror_mode": {
    "name": "ipython",
    "version": 3
   },
   "file_extension": ".py",
   "mimetype": "text/x-python",
   "name": "python",
   "nbconvert_exporter": "python",
   "pygments_lexer": "ipython3",
   "version": "3.9.7"
  },
  "orig_nbformat": 4,
  "vscode": {
   "interpreter": {
    "hash": "fd3399778ecca89ccfd38c8963bbc048ff3198ccc7f9219d1f9dd0c6b6412bb5"
   }
  }
 },
 "nbformat": 4,
 "nbformat_minor": 2
}
