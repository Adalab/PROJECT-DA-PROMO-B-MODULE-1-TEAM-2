{
 "cells": [
  {
   "cell_type": "code",
   "execution_count": 4,
   "metadata": {},
   "outputs": [],
   "source": [
    "# Importamos\n",
    "\n",
    "import mysql.connector\n",
    "\n",
    "# Creamos una función para crear tablas automáticamente con la contraseña de cada unaç\n",
    "\n",
    "def crear_tablas (password,query):\n",
    "    cnx = mysql.connector.connect(user='root', password=password,\n",
    "                              host='127.0.0.1', database='project1')\n",
    "    mycursor= cnx.cursor()\n",
    "    try:\n",
    "        mycursor.execute(query)\n",
    "        print(\"Se creó la tabla\",mycursor)\n",
    "    except mysql.connector.Error as err:\n",
    "        print(err)\n",
    "        print(\"Error Code:\", err.errno)\n",
    "        print(\"SQLSTATE\", err.sqlstate)\n",
    "        print(\"Message\", err.msg)\n",
    "    return mycursor.close()\n"
   ]
  },
  {
   "cell_type": "code",
   "execution_count": 2,
   "metadata": {},
   "outputs": [],
   "source": [
    "# Creamos una función para insertar datos\n",
    "\n",
    "import mysql.connector\n",
    "\n",
    "def insertar_datos (sql, val, password=\"AlumnaAdalab\"):\n",
    "    \n",
    "    cnx = mysql.connector.connect(user='root', password=password,\n",
    "                                host='127.0.0.1', database='project1')\n",
    "\n",
    "\n",
    "    mycursor = cnx.cursor()\n",
    "\n",
    "    try: \n",
    "        mycursor.execute(sql, val)\n",
    "        cnx.commit()\n",
    "        print(mycursor.rowcount, \"registro insertado.\")\n",
    "\n",
    "    except mysql.connector.Error as err:\n",
    "        print(err)\n",
    "        print(\"Error Code:\", err.errno)\n",
    "        print(\"SQLSTATE\", err.sqlstate)\n",
    "        print(\"Message\", err.msg)"
   ]
  },
  {
   "cell_type": "code",
   "execution_count": null,
   "metadata": {},
   "outputs": [],
   "source": [
    "insertar_datos()"
   ]
  },
  {
   "cell_type": "code",
   "execution_count": null,
   "metadata": {},
   "outputs": [],
   "source": [
    "sql = "
   ]
  },
  {
   "cell_type": "code",
   "execution_count": null,
   "metadata": {},
   "outputs": [],
   "source": [
    "# Pasar algo a lista de tuplas desde un txt\n",
    "\n",
    "def pasar_lista_tuplas_txt(archivo):\n",
    "    \n",
    "    lista_values = []\n",
    "\n",
    "    for i in archivo:\n",
    "\n",
    "        value = tuple(i)\n",
    "        lista_values.append(value) \n",
    "        \n",
    "\n",
    "# Transformamos la lista de diccionarios a lista de tuplas desde un xml\n",
    "\n",
    "def pasar_lista_tuplas_xml(archivo):\n",
    "\n",
    "    lista_tuplas = []\n",
    "\n",
    "    for v in archivo:\n",
    "        x = tuple(v.values())\n",
    "        lista_tuplas.append(x)"
   ]
  },
  {
   "cell_type": "code",
   "execution_count": null,
   "metadata": {},
   "outputs": [],
   "source": [
    "# Creamos una función para insertar datos\n",
    "\n",
    "import mysql.connector\n",
    "\n",
    "def insertar_datos (sql, val):\n",
    "    \n",
    "    #falta transformar val a lista de tuplas\n",
    "    \n",
    "    cnx = mysql.connector.connect(user='root', password='AlumnaAdalab',\n",
    "                                host='127.0.0.1', database='project1')\n",
    "\n",
    "\n",
    "    mycursor = cnx.cursor()\n",
    "    sql = \"INSERT INTO customers (name, address) VALUES (%s, %s)\"\n",
    "    val = (\"Ana\", \"Calle 21\")\n",
    "    try: \n",
    "        mycursor.execute(sql, val)\n",
    "        cnx.commit()\n",
    "        print(mycursor.rowcount, \"registro insertado.\")\n",
    "\n",
    "    except mysql.connector.Error as err:\n",
    "        print(err)\n",
    "        print(\"Error Code:\", err.errno)\n",
    "        print(\"SQLSTATE\", err.sqlstate)\n",
    "        print(\"Message\", err.msg)"
   ]
  },
  {
   "cell_type": "code",
   "execution_count": null,
   "metadata": {},
   "outputs": [],
   "source": [
    "## deberes: pasar la función a los archivos de clase limpieza xml y clas txt"
   ]
  }
 ],
 "metadata": {
  "kernelspec": {
   "display_name": "Python 3.9.7 ('base')",
   "language": "python",
   "name": "python3"
  },
  "language_info": {
   "codemirror_mode": {
    "name": "ipython",
    "version": 3
   },
   "file_extension": ".py",
   "mimetype": "text/x-python",
   "name": "python",
   "nbconvert_exporter": "python",
   "pygments_lexer": "ipython3",
   "version": "3.9.7"
  },
  "orig_nbformat": 4,
  "vscode": {
   "interpreter": {
    "hash": "fd3399778ecca89ccfd38c8963bbc048ff3198ccc7f9219d1f9dd0c6b6412bb5"
   }
  }
 },
 "nbformat": 4,
 "nbformat_minor": 2
}
