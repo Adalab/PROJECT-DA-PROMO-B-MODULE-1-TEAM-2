{
 "cells": [
  {
   "cell_type": "code",
   "execution_count": null,
   "metadata": {},
   "outputs": [],
   "source": [
    "with open('data_txt.txt','r') as file:\n",
    "    file_source = file.readlines() # Es una lista que cada línea del fichero txt como un string de todos los datos."
   ]
  },
  {
   "cell_type": "code",
   "execution_count": null,
   "metadata": {},
   "outputs": [],
   "source": [
    "# Definimos una clase que nos limpie archivos txt\n",
    "\n",
    "\n",
    "class Limpieza_txt:\n",
    "    \n",
    "    def __init__ (self, txt):\n",
    "        self.txt = txt\n",
    "        \n",
    "    # definimos función salto en línea\n",
    "\n",
    "    def quitar_salto(self):\n",
    "        \n",
    "        lista_resultado = []\n",
    "        for i in self.txt:\n",
    "            i = i.rstrip().split(';')\n",
    "            lista_resultado.append(i)  \n",
    "        return lista_resultado\n",
    "    \n",
    "    #definimos función quitar espacios son para listas\n",
    "\n",
    "    def quitar_espacios(self, lista_resultado):\n",
    "        \n",
    "        self.lista_resultado = lista_resultado\n",
    "        \n",
    "        i = 0\n",
    "        \n",
    "        while i < len(self.lista_resultado ):\n",
    "            listalimpia = []\n",
    "            \n",
    "            for str in self.lista_resultado[i]:\n",
    "                \n",
    "                listalimpia.append(str.strip())\n",
    "                self.lista_resultado [i] = listalimpia\n",
    "            i += 1\n",
    "        \n",
    "        return print(self.lista_resultado )\n",
    "    \n",
    "    #definimos función cambiar < por under\n",
    "\n",
    "    def cambiar_under(self, lista_resultado):\n",
    "        \n",
    "        self.lista_resultado = lista_resultado\n",
    "        \n",
    "        i = 0    \n",
    "    \n",
    "        while i < len(self.lista_resultado):\n",
    "            \n",
    "            listalimpia = []\n",
    "            \n",
    "            for str in self.lista_resultado[i]:\n",
    "                listalimpia.append(str.replace(\"<\", \"under\"))\n",
    "                self.lista_resultado[i] = listalimpia\n",
    "            i +=1\n",
    "        \n",
    "        return print(self.lista_resultado)\n",
    "    \n",
    "    #definimos función cambiar null por NULL\n",
    "    \n",
    "    def cambiar_null(self, lista_resultado):\n",
    "        \n",
    "        self.lista_resultado = lista_resultado\n",
    "    \n",
    "        i = 0    \n",
    "    \n",
    "        while i < len(self.lista_resultado):\n",
    "            \n",
    "            listalimpia = []\n",
    "            \n",
    "            for str in self.lista_resultado[i]:\n",
    "                listalimpia.append(str.replace(\"null\", \"NULL\"))\n",
    "                self.lista_resultado[i] = listalimpia\n",
    "            i +=1\n",
    "        \n",
    "        return print(self.lista_resultado)"
   ]
  },
  {
   "cell_type": "code",
   "execution_count": null,
   "metadata": {},
   "outputs": [],
   "source": [
    "# Creamos una instancia con la información de nuestro cliente\n",
    "\n",
    "limpiezaadalab = Limpieza_txt(file_source)"
   ]
  },
  {
   "cell_type": "code",
   "execution_count": null,
   "metadata": {},
   "outputs": [],
   "source": [
    "# Ejecutamos el encargo de nuestro cliente Adalab"
   ]
  },
  {
   "cell_type": "code",
   "execution_count": null,
   "metadata": {},
   "outputs": [],
   "source": [
    "lista_resultado = limpiezaadalab.quitar_salto()"
   ]
  },
  {
   "cell_type": "code",
   "execution_count": null,
   "metadata": {},
   "outputs": [],
   "source": [
    "limpiezaadalab.quitar_espacios(lista_resultado)"
   ]
  },
  {
   "cell_type": "code",
   "execution_count": null,
   "metadata": {},
   "outputs": [],
   "source": [
    "limpiezaadalab.cambiar_under(lista_resultado)"
   ]
  },
  {
   "cell_type": "code",
   "execution_count": null,
   "metadata": {},
   "outputs": [],
   "source": [
    "limpiezaadalab.cambiar_null(lista_resultado)"
   ]
  }
 ],
 "metadata": {
  "kernelspec": {
   "display_name": "Python 3.10.5 64-bit",
   "language": "python",
   "name": "python3"
  },
  "language_info": {
   "name": "python",
   "version": "3.10.5"
  },
  "orig_nbformat": 4,
  "vscode": {
   "interpreter": {
    "hash": "aee8b7b246df8f9039afb4144a1f6fd8d2ca17a180786b69acc140d282b71a49"
   }
  }
 },
 "nbformat": 4,
 "nbformat_minor": 2
}
